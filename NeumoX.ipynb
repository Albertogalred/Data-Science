{
  "nbformat": 4,
  "nbformat_minor": 0,
  "metadata": {
    "colab": {
      "name": "NeumoX.ipynb",
      "provenance": [],
      "collapsed_sections": [],
      "mount_file_id": "1ZAPtQQ9xvK82_N0_D1cv5VQGoWBHg_fx",
      "authorship_tag": "ABX9TyMKqUphYVsMEbmFMgpDyc3d",
      "include_colab_link": true
    },
    "kernelspec": {
      "name": "python3",
      "display_name": "Python 3"
    },
    "language_info": {
      "name": "python"
    }
  },
  "cells": [
    {
      "cell_type": "markdown",
      "metadata": {
        "id": "view-in-github",
        "colab_type": "text"
      },
      "source": [
        "<a href=\"https://colab.research.google.com/github/Albertogalred/Data-Science/blob/TFM/NeumoX.ipynb\" target=\"_parent\"><img src=\"https://colab.research.google.com/assets/colab-badge.svg\" alt=\"Open In Colab\"/></a>"
      ]
    },
    {
      "cell_type": "markdown",
      "metadata": {
        "id": "TtvYyBguXLxR"
      },
      "source": [
        "**ENTORNO DE GOOGLE Y OBTENCIÓN DE CÓDIGOS DE LOS ARCHIVOS DE DATOS**"
      ]
    },
    {
      "cell_type": "code",
      "metadata": {
        "colab": {
          "base_uri": "https://localhost:8080/"
        },
        "id": "WHUrrqQuX1zn",
        "outputId": "68a92b9c-9be3-4c95-c308-2c0d39d721a7"
      },
      "source": [
        "!pip install keras"
      ],
      "execution_count": 28,
      "outputs": [
        {
          "output_type": "stream",
          "text": [
            "Requirement already satisfied: keras in /usr/local/lib/python3.7/dist-packages (2.4.3)\n",
            "Requirement already satisfied: pyyaml in /usr/local/lib/python3.7/dist-packages (from keras) (3.13)\n",
            "Requirement already satisfied: numpy>=1.9.1 in /usr/local/lib/python3.7/dist-packages (from keras) (1.19.5)\n",
            "Requirement already satisfied: h5py in /usr/local/lib/python3.7/dist-packages (from keras) (2.10.0)\n",
            "Requirement already satisfied: scipy>=0.14 in /usr/local/lib/python3.7/dist-packages (from keras) (1.4.1)\n",
            "Requirement already satisfied: six in /usr/local/lib/python3.7/dist-packages (from h5py->keras) (1.15.0)\n"
          ],
          "name": "stdout"
        }
      ]
    },
    {
      "cell_type": "code",
      "metadata": {
        "id": "0v7Plrh2AEfT"
      },
      "source": [
        "!pip install -U -q PyDrive\n",
        "from pydrive.auth import GoogleAuth\n",
        "from pydrive.drive import GoogleDrive\n",
        "from google.colab import auth\n",
        "from oauth2client.client import GoogleCredentials\n",
        "\n",
        "# Authenticate and create the PyDrive client.\n",
        "# This only needs to be done once per notebook.\n",
        "auth.authenticate_user()\n",
        "gauth = GoogleAuth()\n",
        "gauth.credentials = GoogleCredentials.get_application_default()\n",
        "drive = GoogleDrive(gauth)"
      ],
      "execution_count": 13,
      "outputs": []
    },
    {
      "cell_type": "code",
      "metadata": {
        "id": "VYE-SFR6Xz7n"
      },
      "source": [
        ""
      ],
      "execution_count": null,
      "outputs": []
    },
    {
      "cell_type": "code",
      "metadata": {
        "colab": {
          "base_uri": "https://localhost:8080/"
        },
        "id": "1OSmE5jrM2tQ",
        "outputId": "04e43792-6b48-4f4c-fc02-f7f5efd54073"
      },
      "source": [
        "from pydrive.drive import GoogleDrive\n",
        "\n",
        "drive = GoogleDrive(gauth) # Create GoogleDrive instance with authenticated GoogleAuth instance\n",
        "\n",
        "# Auto-iterate through all files in the root folder.\n",
        "file_list = drive.ListFile({'q': \"'root' in parents and trashed=false\"}).GetList()\n",
        "for file1 in file_list:\n",
        "  print('title: %s, id: %s' % (file1['title'], file1['id']))"
      ],
      "execution_count": 22,
      "outputs": [
        {
          "output_type": "stream",
          "text": [
            "title: val.zip, id: 1c9VfEbc_WezjvwstMy6D1Zpl5xcmcYH4\n",
            "title: .ipynb_checkpoints, id: 1-2mIbiWIas_CexviyUBV0SDUNQNRSRT8\n",
            "title: train.zip, id: 1udaEEc4Zd9Rc-JJE7dyl5KWzpWl_F8Sp\n",
            "title: NeumoX, id: 1bSyXkNyzwrxPajbY-WNTiCCs4ycwcYnW\n",
            "title: test.zip, id: 1auHH5qiRaHh4T0bNR_MVe1kOkczY4nmx\n",
            "title: Colab Notebooks, id: 1Iz8nrdf6kHl5Jimc2xL9zcws8JEA1MUZ\n"
          ],
          "name": "stdout"
        }
      ]
    },
    {
      "cell_type": "code",
      "metadata": {
        "id": "-tku5QIUWfNh"
      },
      "source": [
        "# Download a file based on its file ID.\n",
        "#\n",
        "\n",
        "file_id = '1udaEEc4Zd9Rc-JJE7dyl5KWzpWl_F8Sp'\n",
        "downloaded = drive.CreateFile({'id': file_id})\n",
        "downloaded.GetContentFile(\"train.zip\")\n",
        "\n",
        "file_id = '1auHH5qiRaHh4T0bNR_MVe1kOkczY4nmx'\n",
        "downloaded = drive.CreateFile({'id': file_id})\n",
        "downloaded.GetContentFile(\"test.zip\")\n",
        "\n",
        "file_id = '1c9VfEbc_WezjvwstMy6D1Zpl5xcmcYH4'\n",
        "downloaded = drive.CreateFile({'id': file_id})\n",
        "downloaded.GetContentFile(\"val.zip\")"
      ],
      "execution_count": 23,
      "outputs": []
    },
    {
      "cell_type": "markdown",
      "metadata": {
        "id": "UWoC01XNXhMS"
      },
      "source": [
        "**CREACIÓN DE CARPETAS**"
      ]
    },
    {
      "cell_type": "code",
      "metadata": {
        "colab": {
          "base_uri": "https://localhost:8080/"
        },
        "id": "zkTqppAuWr2o",
        "outputId": "ad3f8ba4-f825-43e3-edff-5dc1627fb4a2"
      },
      "source": [
        "!mkdir NeumoX\n",
        "!cd NeumoX && unzip -q ../train.zip\n",
        "!cd NeumoX && unzip -q ../test.zip\n",
        "!cd NeumoX && unzip -q ../val.zip"
      ],
      "execution_count": 25,
      "outputs": [
        {
          "output_type": "stream",
          "text": [
            "mkdir: cannot create directory ‘NeumoX’: File exists\n"
          ],
          "name": "stdout"
        }
      ]
    },
    {
      "cell_type": "markdown",
      "metadata": {
        "id": "OIhFt9MdX625"
      },
      "source": [
        "**IMPORTACION**"
      ]
    },
    {
      "cell_type": "code",
      "metadata": {
        "id": "50HU3KXwX_NN"
      },
      "source": [
        "\n",
        "import numpy as np # linear algebra\n",
        "import pandas as pd # data processing, CSV file I/O (e.g. pd.read_csv)\n",
        "import seaborn as sns\n",
        "import tensorflow as tf\n",
        "from tensorflow.random import set_seed\n",
        "from tensorflow.keras.models import Sequential\n",
        "from tensorflow.keras.optimizers import Adam\n",
        "from tensorflow.keras.metrics import binary_accuracy\n",
        "from tensorflow.keras.layers import Dense,Activation,BatchNormalization,MaxPooling2D,Conv2D,Flatten,Dropout,MaxPool2D,Softmax,Input,ELU\n",
        "from tensorflow.keras.optimizers import Adam,RMSprop,SGD\n",
        "from tensorflow.keras.callbacks import ModelCheckpoint, Callback, EarlyStopping\n",
        "from keras.preprocessing.image import ImageDataGenerator\n",
        "from keras.layers.merge import add\n",
        "from sklearn.metrics import roc_auc_score,roc_curve,accuracy_score,recall_score,classification_report, confusion_matrix\n",
        "from tqdm import tqdm  \n",
        "import cv2   \n",
        "import scipy\n",
        "import skimage\n",
        "from skimage.transform import resize\n",
        "import matplotlib.pyplot as plt\n",
        "import h5py\n",
        "import os, shutil\n",
        "import glob\n",
        "import time\n",
        "import random\n"
      ],
      "execution_count": 31,
      "outputs": []
    },
    {
      "cell_type": "code",
      "metadata": {
        "id": "DbIXkdenYT9x"
      },
      "source": [
        ""
      ],
      "execution_count": null,
      "outputs": []
    },
    {
      "cell_type": "code",
      "metadata": {
        "id": "ZIjYSP4VYJI6"
      },
      "source": [
        ""
      ],
      "execution_count": null,
      "outputs": []
    }
  ]
}