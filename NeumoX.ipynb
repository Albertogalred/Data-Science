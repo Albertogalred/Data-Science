{
  "nbformat": 4,
  "nbformat_minor": 0,
  "metadata": {
    "colab": {
      "name": "NeumoX.ipynb",
      "provenance": [],
      "collapsed_sections": [],
      "mount_file_id": "1ZAPtQQ9xvK82_N0_D1cv5VQGoWBHg_fx",
      "authorship_tag": "ABX9TyPrFGphVi/QskHZ/kuNw/v8",
      "include_colab_link": true
    },
    "kernelspec": {
      "name": "python3",
      "display_name": "Python 3"
    },
    "language_info": {
      "name": "python"
    }
  },
  "cells": [
    {
      "cell_type": "markdown",
      "metadata": {
        "id": "view-in-github",
        "colab_type": "text"
      },
      "source": [
        "<a href=\"https://colab.research.google.com/github/Albertogalred/Data-Science/blob/TFM/NeumoX.ipynb\" target=\"_parent\"><img src=\"https://colab.research.google.com/assets/colab-badge.svg\" alt=\"Open In Colab\"/></a>"
      ]
    },
    {
      "cell_type": "code",
      "metadata": {
        "id": "0v7Plrh2AEfT"
      },
      "source": [
        "!pip install -U -q PyDrive\n",
        "from pydrive.auth import GoogleAuth\n",
        "from pydrive.drive import GoogleDrive\n",
        "from google.colab import auth\n",
        "from oauth2client.client import GoogleCredentials\n",
        "\n",
        "# Authenticate and create the PyDrive client.\n",
        "# This only needs to be done once per notebook.\n",
        "auth.authenticate_user()\n",
        "gauth = GoogleAuth()\n",
        "gauth.credentials = GoogleCredentials.get_application_default()\n",
        "drive = GoogleDrive(gauth)"
      ],
      "execution_count": 13,
      "outputs": []
    },
    {
      "cell_type": "code",
      "metadata": {
        "colab": {
          "base_uri": "https://localhost:8080/"
        },
        "id": "1OSmE5jrM2tQ",
        "outputId": "04e43792-6b48-4f4c-fc02-f7f5efd54073"
      },
      "source": [
        "from pydrive.drive import GoogleDrive\n",
        "\n",
        "drive = GoogleDrive(gauth) # Create GoogleDrive instance with authenticated GoogleAuth instance\n",
        "\n",
        "# Auto-iterate through all files in the root folder.\n",
        "file_list = drive.ListFile({'q': \"'root' in parents and trashed=false\"}).GetList()\n",
        "for file1 in file_list:\n",
        "  print('title: %s, id: %s' % (file1['title'], file1['id']))"
      ],
      "execution_count": 22,
      "outputs": [
        {
          "output_type": "stream",
          "text": [
            "title: val.zip, id: 1c9VfEbc_WezjvwstMy6D1Zpl5xcmcYH4\n",
            "title: .ipynb_checkpoints, id: 1-2mIbiWIas_CexviyUBV0SDUNQNRSRT8\n",
            "title: train.zip, id: 1udaEEc4Zd9Rc-JJE7dyl5KWzpWl_F8Sp\n",
            "title: NeumoX, id: 1bSyXkNyzwrxPajbY-WNTiCCs4ycwcYnW\n",
            "title: test.zip, id: 1auHH5qiRaHh4T0bNR_MVe1kOkczY4nmx\n",
            "title: Colab Notebooks, id: 1Iz8nrdf6kHl5Jimc2xL9zcws8JEA1MUZ\n"
          ],
          "name": "stdout"
        }
      ]
    }
  ]
}